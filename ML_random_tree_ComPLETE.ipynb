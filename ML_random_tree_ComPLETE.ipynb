{
  "nbformat": 4,
  "nbformat_minor": 0,
  "metadata": {
    "colab": {
      "provenance": [],
      "gpuType": "T4"
    },
    "kernelspec": {
      "name": "python3",
      "display_name": "Python 3"
    },
    "language_info": {
      "name": "python"
    },
    "accelerator": "GPU"
  },
  "cells": [
    {
      "cell_type": "code",
      "source": [
        "import pandas as pd\n",
        "import numpy as np\n",
        "import matplotlib.pyplot as plt\n",
        "import seaborn as sns\n",
        "from sklearn.preprocessing import LabelEncoder, OneHotEncoder, StandardScaler, power_transform\n",
        "from sklearn.model_selection import train_test_split\n",
        "from tensorflow import keras"
      ],
      "metadata": {
        "id": "8IPoFD-m9t85"
      },
      "execution_count": null,
      "outputs": []
    },
    {
      "cell_type": "code",
      "source": [
        "# Load the dataset\n",
        "#from google.colab import drive\n",
        "#drive.mount('/content/drive')\n",
        "#df = pd.read_csv('/content/drive/My Drive/dataset/csgo_round_snapshots.csv')\n",
        "\n",
        "#iMPORT csgo_round_snapshots.csv\n",
        "from google.colab import files\n",
        "df = files.upload() #uploadไฟล์\n",
        "\n",
        "# Split X and y\n",
        "y = df['round_winner']\n",
        "X = df.drop(['round_winner'], axis=1)\n",
        "# Drop grenade info columns\n",
        "X = X.drop(X.columns[X.columns.str.contains('grenade')], axis=1)"
      ],
      "metadata": {
        "colab": {
          "base_uri": "https://localhost:8080/"
        },
        "id": "pC3-P9Dd9uo5",
        "outputId": "13037d6e-5a32-491c-d092-bafa8252c50d"
      },
      "execution_count": null,
      "outputs": [
        {
          "output_type": "stream",
          "name": "stdout",
          "text": [
            "Mounted at /content/drive\n"
          ]
        }
      ]
    },
    {
      "cell_type": "code",
      "source": [
        "# Encode categorical columns\n",
        "object_cols = ['map', 'bomb_planted']\n",
        "ohe = OneHotEncoder(handle_unknown='ignore', sparse_output=False)\n",
        "X_encoded = pd.DataFrame(ohe.fit_transform(X[object_cols]))\n",
        "X_encoded.columns = ohe.get_feature_names_out(object_cols)\n",
        "X_encoded.index = X.index"
      ],
      "metadata": {
        "id": "VDwTgZTG-ooh"
      },
      "execution_count": null,
      "outputs": []
    },
    {
      "cell_type": "code",
      "source": [
        "# Combine with numerical features\n",
        "X = pd.concat([X.drop(object_cols, axis=1), X_encoded], axis=1)\n",
        "\n",
        "# Encode target variable\n",
        "label_encoder = LabelEncoder()\n",
        "y = label_encoder.fit_transform(y)  # \"CT\" → 0, \"T\" → 1\n",
        "\n",
        "# Normalize numerical features\n",
        "scaler = StandardScaler()\n",
        "X_scaled = pd.DataFrame(scaler.fit_transform(X), columns=X.columns)"
      ],
      "metadata": {
        "id": "8L1i4_iY-pg4"
      },
      "execution_count": null,
      "outputs": []
    },
    {
      "cell_type": "code",
      "source": [
        "# Train-test split\n",
        "X_train_full, X_test, y_train_full, y_test = train_test_split(\n",
        "    X_scaled, y, stratify=y, test_size=0.1, random_state=0)\n",
        "\n",
        "X_train, X_valid, y_train, y_valid = train_test_split(\n",
        "    X_train_full, y_train_full, stratify=y_train_full, test_size=0.25, random_state=0)"
      ],
      "metadata": {
        "id": "-ZHHyqJg-siw"
      },
      "execution_count": null,
      "outputs": []
    },
    {
      "cell_type": "code",
      "source": [
        "print(X.columns.tolist())"
      ],
      "metadata": {
        "colab": {
          "base_uri": "https://localhost:8080/"
        },
        "id": "mG51oJ9c_MQ4",
        "outputId": "099b2502-e60b-4c7c-aca7-df87c7448770"
      },
      "execution_count": null,
      "outputs": [
        {
          "output_type": "stream",
          "name": "stdout",
          "text": [
            "['time_left', 'ct_score', 't_score', 'ct_health', 't_health', 'ct_armor', 't_armor', 'ct_money', 't_money', 'ct_helmets', 't_helmets', 'ct_defuse_kits', 'ct_players_alive', 't_players_alive', 'ct_weapon_ak47', 't_weapon_ak47', 'ct_weapon_aug', 't_weapon_aug', 'ct_weapon_awp', 't_weapon_awp', 'ct_weapon_bizon', 't_weapon_bizon', 'ct_weapon_cz75auto', 't_weapon_cz75auto', 'ct_weapon_elite', 't_weapon_elite', 'ct_weapon_famas', 't_weapon_famas', 'ct_weapon_g3sg1', 't_weapon_g3sg1', 'ct_weapon_galilar', 't_weapon_galilar', 'ct_weapon_glock', 't_weapon_glock', 'ct_weapon_m249', 't_weapon_m249', 'ct_weapon_m4a1s', 't_weapon_m4a1s', 'ct_weapon_m4a4', 't_weapon_m4a4', 'ct_weapon_mac10', 't_weapon_mac10', 'ct_weapon_mag7', 't_weapon_mag7', 'ct_weapon_mp5sd', 't_weapon_mp5sd', 'ct_weapon_mp7', 't_weapon_mp7', 'ct_weapon_mp9', 't_weapon_mp9', 'ct_weapon_negev', 't_weapon_negev', 'ct_weapon_nova', 't_weapon_nova', 'ct_weapon_p90', 't_weapon_p90', 'ct_weapon_r8revolver', 't_weapon_r8revolver', 'ct_weapon_sawedoff', 't_weapon_sawedoff', 'ct_weapon_scar20', 't_weapon_scar20', 'ct_weapon_sg553', 't_weapon_sg553', 'ct_weapon_ssg08', 't_weapon_ssg08', 'ct_weapon_ump45', 't_weapon_ump45', 'ct_weapon_xm1014', 't_weapon_xm1014', 'ct_weapon_deagle', 't_weapon_deagle', 'ct_weapon_fiveseven', 't_weapon_fiveseven', 'ct_weapon_usps', 't_weapon_usps', 'ct_weapon_p250', 't_weapon_p250', 'ct_weapon_p2000', 't_weapon_p2000', 'ct_weapon_tec9', 't_weapon_tec9', 'map_de_cache', 'map_de_dust2', 'map_de_inferno', 'map_de_mirage', 'map_de_nuke', 'map_de_overpass', 'map_de_train', 'map_de_vertigo', 'bomb_planted_False', 'bomb_planted_True']\n"
          ]
        }
      ]
    },
    {
      "cell_type": "code",
      "source": [
        "# Build Neural Network model\n",
        "model = keras.models.Sequential()\n",
        "model.add(keras.layers.BatchNormalization(input_shape=[X_train.shape[1]]))\n",
        "\n",
        "for _ in range(4):\n",
        "    model.add(keras.layers.Dense(300, kernel_initializer=\"he_normal\", use_bias=False))\n",
        "    model.add(keras.layers.BatchNormalization())\n",
        "    model.add(keras.layers.Activation(\"elu\"))\n",
        "    model.add(keras.layers.Dropout(rate=0.2))"
      ],
      "metadata": {
        "colab": {
          "base_uri": "https://localhost:8080/"
        },
        "id": "aiChchVP-uhQ",
        "outputId": "50ed3a79-8a4c-458c-f94b-b139e392113a"
      },
      "execution_count": null,
      "outputs": [
        {
          "output_type": "stream",
          "name": "stderr",
          "text": [
            "/usr/local/lib/python3.11/dist-packages/keras/src/layers/normalization/batch_normalization.py:142: UserWarning: Do not pass an `input_shape`/`input_dim` argument to a layer. When using Sequential models, prefer using an `Input(shape)` object as the first layer in the model instead.\n",
            "  super().__init__(**kwargs)\n"
          ]
        }
      ]
    },
    {
      "cell_type": "code",
      "source": [
        "# Output layer (softmax for multi-class classification)\n",
        "model.add(keras.layers.Dense(2, activation=\"softmax\"))  # 2 classes: CT, T"
      ],
      "metadata": {
        "id": "ONOoWj4j-y2o"
      },
      "execution_count": null,
      "outputs": []
    },
    {
      "cell_type": "code",
      "source": [
        "# Compile model\n",
        "model.compile(\n",
        "    loss='sparse_categorical_crossentropy',  # Categorical loss function\n",
        "    optimizer='Nadam',\n",
        "    metrics=['accuracy', keras.metrics.AUC(), keras.metrics.Precision(), keras.metrics.Recall()]\n",
        ")"
      ],
      "metadata": {
        "id": "xUbVT7kT-0H4"
      },
      "execution_count": null,
      "outputs": []
    },
    {
      "cell_type": "code",
      "source": [
        "# Callbacks\n",
        "reduce_lr_cb = keras.callbacks.ReduceLROnPlateau(monitor='val_loss', factor=0.2, patience=5, min_lr=0.001)\n",
        "early_stopping_cb = keras.callbacks.EarlyStopping(patience=5, restore_best_weights=True)"
      ],
      "metadata": {
        "id": "U-4uFJKC-23I"
      },
      "execution_count": null,
      "outputs": []
    },
    {
      "cell_type": "code",
      "source": [
        "from sklearn.model_selection import train_test_split\n",
        "from sklearn.ensemble import RandomForestClassifier\n",
        "from sklearn.metrics import accuracy_score\n",
        "\n",
        "# แบ่งข้อมูล Train / Validation / Test\n",
        "X_train_full, X_test, y_train_full, y_test = train_test_split(X, y, stratify=y, test_size=0.1, random_state=0)\n",
        "X_train, X_valid, y_train, y_valid = train_test_split(X_train_full, y_train_full, stratify=y_train_full, test_size=0.25, random_state=0)\n",
        "\n",
        "# สร้างโมเดล Random Forest\n",
        "rf_model = RandomForestClassifier(\n",
        "    n_estimators=100,  # จำนวนต้นไม้ในป่า (default = 100)\n",
        "    max_depth=10,      # จำกัดความลึกของต้นไม้ (ลด overfitting)\n",
        "    min_samples_split=5,  # จำนวน sample ขั้นต่ำก่อนแตก node\n",
        "    min_samples_leaf=2,   # จำนวน sample ขั้นต่ำในใบไม้\n",
        "    random_state=42,  # ทำให้ผลลัพธ์ reproducible\n",
        "    n_jobs=-1         # ใช้ CPU ทุก core\n",
        ")\n",
        "\n",
        "# Train โมเดล\n",
        "rf_model.fit(X_train, y_train)\n",
        "\n",
        "# ประเมินผลบน Validation Set\n",
        "y_pred = rf_model.predict(X_valid)\n",
        "accuracy = accuracy_score(y_valid, y_pred)\n",
        "\n",
        "print(f\"Validation Accuracy: {accuracy:.4f}\")\n",
        "\n",
        "# ทดสอบโมเดลบน Test Set\n",
        "y_test_pred = rf_model.predict(X_test)\n",
        "test_accuracy = accuracy_score(y_test, y_test_pred)\n",
        "\n",
        "print(f\"Test Accuracy: {test_accuracy:.4f}\")\n"
      ],
      "metadata": {
        "colab": {
          "base_uri": "https://localhost:8080/"
        },
        "id": "uqMY3KbQ-3UQ",
        "outputId": "361901ef-a0fc-428f-9eea-8d65ca1f9795"
      },
      "execution_count": null,
      "outputs": [
        {
          "output_type": "stream",
          "name": "stdout",
          "text": [
            "Validation Accuracy: 0.7699\n",
            "Test Accuracy: 0.7737\n"
          ]
        }
      ]
    }
  ]
}