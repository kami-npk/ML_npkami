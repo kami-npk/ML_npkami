{
  "nbformat": 4,
  "nbformat_minor": 0,
  "metadata": {
    "colab": {
      "provenance": [],
      "gpuType": "T4"
    },
    "kernelspec": {
      "name": "python3",
      "display_name": "Python 3"
    },
    "language_info": {
      "name": "python"
    },
    "accelerator": "GPU"
  },
  "cells": [
    {
      "cell_type": "code",
      "source": [
        "import pandas as pd\n",
        "import numpy as np\n",
        "import matplotlib.pyplot as plt\n",
        "import seaborn as sns\n",
        "from sklearn.preprocessing import LabelEncoder, OneHotEncoder, StandardScaler, power_transform\n",
        "from sklearn.model_selection import train_test_split\n",
        "from tensorflow import keras"
      ],
      "metadata": {
        "id": "8IPoFD-m9t85"
      },
      "execution_count": null,
      "outputs": []
    },
    {
      "cell_type": "code",
      "source": [
        "# Load the dataset\n",
        "from google.colab import drive\n",
        "drive.mount('/content/drive')\n",
        "df = pd.read_csv('/content/drive/My Drive/dataset/csgo_round_snapshots.csv')\n",
        "\n",
        "# Split X and y\n",
        "y = df['round_winner']\n",
        "X = df.drop(['round_winner'], axis=1)\n",
        "# Drop grenade info columns\n",
        "X = X.drop(X.columns[X.columns.str.contains('grenade')], axis=1)"
      ],
      "metadata": {
        "colab": {
          "base_uri": "https://localhost:8080/"
        },
        "id": "pC3-P9Dd9uo5",
        "outputId": "7c901845-9749-4a27-8d35-3dde94cb541f"
      },
      "execution_count": null,
      "outputs": [
        {
          "output_type": "stream",
          "name": "stdout",
          "text": [
            "Drive already mounted at /content/drive; to attempt to forcibly remount, call drive.mount(\"/content/drive\", force_remount=True).\n"
          ]
        }
      ]
    },
    {
      "cell_type": "code",
      "source": [
        "# Encode categorical columns\n",
        "object_cols = ['map', 'bomb_planted']\n",
        "ohe = OneHotEncoder(handle_unknown='ignore', sparse_output=False)\n",
        "X_encoded = pd.DataFrame(ohe.fit_transform(X[object_cols]))\n",
        "X_encoded.columns = ohe.get_feature_names_out(object_cols)\n",
        "X_encoded.index = X.index"
      ],
      "metadata": {
        "id": "VDwTgZTG-ooh"
      },
      "execution_count": null,
      "outputs": []
    },
    {
      "cell_type": "code",
      "source": [
        "# Combine with numerical features\n",
        "X = pd.concat([X.drop(object_cols, axis=1), X_encoded], axis=1)\n",
        "\n",
        "# Encode target variable\n",
        "label_encoder = LabelEncoder()\n",
        "y = label_encoder.fit_transform(y)  # \"CT\" → 0, \"T\" → 1\n",
        "\n",
        "# Normalize numerical features\n",
        "scaler = StandardScaler()\n",
        "X_scaled = pd.DataFrame(scaler.fit_transform(X), columns=X.columns)"
      ],
      "metadata": {
        "id": "8L1i4_iY-pg4"
      },
      "execution_count": null,
      "outputs": []
    },
    {
      "cell_type": "code",
      "source": [
        "# Train-test split\n",
        "X_train_full, X_test, y_train_full, y_test = train_test_split(\n",
        "    X_scaled, y, stratify=y, test_size=0.1, random_state=0)\n",
        "\n",
        "X_train, X_valid, y_train, y_valid = train_test_split(\n",
        "    X_train_full, y_train_full, stratify=y_train_full, test_size=0.25, random_state=0)"
      ],
      "metadata": {
        "id": "-ZHHyqJg-siw"
      },
      "execution_count": null,
      "outputs": []
    },
    {
      "cell_type": "code",
      "source": [
        "print(X.columns.tolist())"
      ],
      "metadata": {
        "colab": {
          "base_uri": "https://localhost:8080/"
        },
        "id": "mG51oJ9c_MQ4",
        "outputId": "9c9b8fd1-b317-4a4e-8bff-fe8440f8dc56"
      },
      "execution_count": null,
      "outputs": [
        {
          "output_type": "stream",
          "name": "stdout",
          "text": [
            "['time_left', 'ct_score', 't_score', 'ct_health', 't_health', 'ct_armor', 't_armor', 'ct_money', 't_money', 'ct_helmets', 't_helmets', 'ct_defuse_kits', 'ct_players_alive', 't_players_alive', 'ct_weapon_ak47', 't_weapon_ak47', 'ct_weapon_aug', 't_weapon_aug', 'ct_weapon_awp', 't_weapon_awp', 'ct_weapon_bizon', 't_weapon_bizon', 'ct_weapon_cz75auto', 't_weapon_cz75auto', 'ct_weapon_elite', 't_weapon_elite', 'ct_weapon_famas', 't_weapon_famas', 'ct_weapon_g3sg1', 't_weapon_g3sg1', 'ct_weapon_galilar', 't_weapon_galilar', 'ct_weapon_glock', 't_weapon_glock', 'ct_weapon_m249', 't_weapon_m249', 'ct_weapon_m4a1s', 't_weapon_m4a1s', 'ct_weapon_m4a4', 't_weapon_m4a4', 'ct_weapon_mac10', 't_weapon_mac10', 'ct_weapon_mag7', 't_weapon_mag7', 'ct_weapon_mp5sd', 't_weapon_mp5sd', 'ct_weapon_mp7', 't_weapon_mp7', 'ct_weapon_mp9', 't_weapon_mp9', 'ct_weapon_negev', 't_weapon_negev', 'ct_weapon_nova', 't_weapon_nova', 'ct_weapon_p90', 't_weapon_p90', 'ct_weapon_r8revolver', 't_weapon_r8revolver', 'ct_weapon_sawedoff', 't_weapon_sawedoff', 'ct_weapon_scar20', 't_weapon_scar20', 'ct_weapon_sg553', 't_weapon_sg553', 'ct_weapon_ssg08', 't_weapon_ssg08', 'ct_weapon_ump45', 't_weapon_ump45', 'ct_weapon_xm1014', 't_weapon_xm1014', 'ct_weapon_deagle', 't_weapon_deagle', 'ct_weapon_fiveseven', 't_weapon_fiveseven', 'ct_weapon_usps', 't_weapon_usps', 'ct_weapon_p250', 't_weapon_p250', 'ct_weapon_p2000', 't_weapon_p2000', 'ct_weapon_tec9', 't_weapon_tec9', 'map_de_cache', 'map_de_dust2', 'map_de_inferno', 'map_de_mirage', 'map_de_nuke', 'map_de_overpass', 'map_de_train', 'map_de_vertigo', 'bomb_planted_False', 'bomb_planted_True']\n"
          ]
        }
      ]
    },
    {
      "cell_type": "code",
      "source": [
        "# Build Neural Network model\n",
        "model = keras.models.Sequential()\n",
        "model.add(keras.layers.BatchNormalization(input_shape=[X_train.shape[1]]))\n",
        "\n",
        "for _ in range(4):\n",
        "    model.add(keras.layers.Dense(300, kernel_initializer=\"he_normal\", use_bias=False))\n",
        "    model.add(keras.layers.BatchNormalization())\n",
        "    model.add(keras.layers.Activation(\"elu\"))\n",
        "    model.add(keras.layers.Dropout(rate=0.2))"
      ],
      "metadata": {
        "colab": {
          "base_uri": "https://localhost:8080/"
        },
        "id": "aiChchVP-uhQ",
        "outputId": "0aadf460-68c7-49cf-90fb-2fa3a8208b47"
      },
      "execution_count": null,
      "outputs": [
        {
          "output_type": "stream",
          "name": "stderr",
          "text": [
            "/usr/local/lib/python3.11/dist-packages/keras/src/layers/normalization/batch_normalization.py:142: UserWarning: Do not pass an `input_shape`/`input_dim` argument to a layer. When using Sequential models, prefer using an `Input(shape)` object as the first layer in the model instead.\n",
            "  super().__init__(**kwargs)\n"
          ]
        }
      ]
    },
    {
      "cell_type": "code",
      "source": [
        "# Output layer (softmax for multi-class classification)\n",
        "model.add(keras.layers.Dense(2, activation=\"softmax\"))  # 2 classes: CT, T"
      ],
      "metadata": {
        "id": "ONOoWj4j-y2o"
      },
      "execution_count": null,
      "outputs": []
    },
    {
      "cell_type": "code",
      "source": [
        "# Compile model\n",
        "model.compile(\n",
        "    loss='sparse_categorical_crossentropy',  # Categorical loss function\n",
        "    optimizer='Nadam',\n",
        "    metrics=['accuracy', keras.metrics.AUC(), keras.metrics.Precision(), keras.metrics.Recall()]\n",
        ")"
      ],
      "metadata": {
        "id": "xUbVT7kT-0H4"
      },
      "execution_count": null,
      "outputs": []
    },
    {
      "cell_type": "code",
      "source": [
        "# Callbacks\n",
        "reduce_lr_cb = keras.callbacks.ReduceLROnPlateau(monitor='val_loss', factor=0.2, patience=5, min_lr=0.001)\n",
        "early_stopping_cb = keras.callbacks.EarlyStopping(patience=5, restore_best_weights=True)"
      ],
      "metadata": {
        "id": "U-4uFJKC-23I"
      },
      "execution_count": null,
      "outputs": []
    },
    {
      "cell_type": "code",
      "source": [
        "from sklearn.model_selection import train_test_split\n",
        "from tensorflow import keras\n",
        "\n",
        "# Make a train, validation and test set\n",
        "X_train_full, X_test, y_train_full, y_test = train_test_split(X, y,\n",
        " stratify=y, test_size=0.1, random_state=0)\n",
        "X_train, X_valid, y_train, y_valid = train_test_split(X_train_full, y_train_full,\n",
        " stratify=y_train_full, test_size=0.25, random_state=0)\n",
        "\n",
        "# Set model parameters\n",
        "n_layers = 4\n",
        "n_nodes = 300\n",
        "regularized = False\n",
        "dropout = True\n",
        "epochs = 50\n",
        "\n",
        "# Make a Keras DNN model\n",
        "model = keras.models.Sequential()\n",
        "model.add(keras.layers.BatchNormalization())\n",
        "for n in range(n_layers):\n",
        "    if regularized:\n",
        "        model.add(keras.layers.Dense(n_nodes, kernel_initializer=\"he_normal\",\n",
        "         kernel_regularizer=keras.regularizers.l1(0.01), use_bias=False))\n",
        "    else:\n",
        "        model.add(keras.layers.Dense(n_nodes,\n",
        "         kernel_initializer=\"he_normal\", use_bias=False))\n",
        "    model.add(keras.layers.BatchNormalization())\n",
        "    model.add(keras.layers.Activation(\"elu\"))\n",
        "    if dropout:\n",
        "        model.add(keras.layers.Dropout(rate=0.2))\n",
        "model.add(keras.layers.Dense(1, activation=\"sigmoid\"))\n",
        "model.compile(loss='binary_crossentropy', optimizer='Nadam', metrics=['accuracy'])\n",
        "\n",
        "# Make a callback that reduces LR on plateau\n",
        "reduce_lr_cb = keras.callbacks.ReduceLROnPlateau(monitor='val_loss', factor=0.2,\n",
        "                                                 patience=5, min_lr=0.001)\n",
        "\n",
        "# Make a callback for early stopping\n",
        "early_stopping_cb = keras.callbacks.EarlyStopping(patience=5)\n",
        "\n",
        "# Train DNN.\n",
        "history = model.fit(np.array(X_train), np.array(y_train), epochs=epochs,\n",
        "     validation_data=(np.array(X_valid), np.array(y_valid)),\n",
        "      callbacks=[reduce_lr_cb, early_stopping_cb], batch_size=128)"
      ],
      "metadata": {
        "colab": {
          "base_uri": "https://localhost:8080/"
        },
        "id": "uqMY3KbQ-3UQ",
        "outputId": "4ddb26fb-2d5a-4420-c588-1de1a50c4e52"
      },
      "execution_count": null,
      "outputs": [
        {
          "output_type": "stream",
          "name": "stdout",
          "text": [
            "Epoch 1/50\n",
            "\u001b[1m646/646\u001b[0m \u001b[32m━━━━━━━━━━━━━━━━━━━━\u001b[0m\u001b[37m\u001b[0m \u001b[1m13s\u001b[0m 10ms/step - accuracy: 0.7204 - loss: 0.5378 - val_accuracy: 0.7522 - val_loss: 0.4684 - learning_rate: 0.0010\n",
            "Epoch 2/50\n",
            "\u001b[1m646/646\u001b[0m \u001b[32m━━━━━━━━━━━━━━━━━━━━\u001b[0m\u001b[37m\u001b[0m \u001b[1m3s\u001b[0m 4ms/step - accuracy: 0.7439 - loss: 0.4768 - val_accuracy: 0.7551 - val_loss: 0.4596 - learning_rate: 0.0010\n",
            "Epoch 3/50\n",
            "\u001b[1m646/646\u001b[0m \u001b[32m━━━━━━━━━━━━━━━━━━━━\u001b[0m\u001b[37m\u001b[0m \u001b[1m5s\u001b[0m 4ms/step - accuracy: 0.7496 - loss: 0.4672 - val_accuracy: 0.7581 - val_loss: 0.4591 - learning_rate: 0.0010\n",
            "Epoch 4/50\n",
            "\u001b[1m646/646\u001b[0m \u001b[32m━━━━━━━━━━━━━━━━━━━━\u001b[0m\u001b[37m\u001b[0m \u001b[1m2s\u001b[0m 4ms/step - accuracy: 0.7521 - loss: 0.4631 - val_accuracy: 0.7553 - val_loss: 0.4539 - learning_rate: 0.0010\n",
            "Epoch 5/50\n",
            "\u001b[1m646/646\u001b[0m \u001b[32m━━━━━━━━━━━━━━━━━━━━\u001b[0m\u001b[37m\u001b[0m \u001b[1m3s\u001b[0m 4ms/step - accuracy: 0.7501 - loss: 0.4629 - val_accuracy: 0.7587 - val_loss: 0.4504 - learning_rate: 0.0010\n",
            "Epoch 6/50\n",
            "\u001b[1m646/646\u001b[0m \u001b[32m━━━━━━━━━━━━━━━━━━━━\u001b[0m\u001b[37m\u001b[0m \u001b[1m5s\u001b[0m 4ms/step - accuracy: 0.7533 - loss: 0.4596 - val_accuracy: 0.7534 - val_loss: 0.4530 - learning_rate: 0.0010\n",
            "Epoch 7/50\n",
            "\u001b[1m646/646\u001b[0m \u001b[32m━━━━━━━━━━━━━━━━━━━━\u001b[0m\u001b[37m\u001b[0m \u001b[1m3s\u001b[0m 4ms/step - accuracy: 0.7566 - loss: 0.4532 - val_accuracy: 0.7608 - val_loss: 0.4476 - learning_rate: 0.0010\n",
            "Epoch 8/50\n",
            "\u001b[1m646/646\u001b[0m \u001b[32m━━━━━━━━━━━━━━━━━━━━\u001b[0m\u001b[37m\u001b[0m \u001b[1m2s\u001b[0m 4ms/step - accuracy: 0.7558 - loss: 0.4543 - val_accuracy: 0.7643 - val_loss: 0.4493 - learning_rate: 0.0010\n",
            "Epoch 9/50\n",
            "\u001b[1m646/646\u001b[0m \u001b[32m━━━━━━━━━━━━━━━━━━━━\u001b[0m\u001b[37m\u001b[0m \u001b[1m3s\u001b[0m 4ms/step - accuracy: 0.7591 - loss: 0.4485 - val_accuracy: 0.7670 - val_loss: 0.4423 - learning_rate: 0.0010\n",
            "Epoch 10/50\n",
            "\u001b[1m646/646\u001b[0m \u001b[32m━━━━━━━━━━━━━━━━━━━━\u001b[0m\u001b[37m\u001b[0m \u001b[1m5s\u001b[0m 4ms/step - accuracy: 0.7584 - loss: 0.4498 - val_accuracy: 0.7620 - val_loss: 0.4476 - learning_rate: 0.0010\n",
            "Epoch 11/50\n",
            "\u001b[1m646/646\u001b[0m \u001b[32m━━━━━━━━━━━━━━━━━━━━\u001b[0m\u001b[37m\u001b[0m \u001b[1m2s\u001b[0m 4ms/step - accuracy: 0.7675 - loss: 0.4409 - val_accuracy: 0.7690 - val_loss: 0.4407 - learning_rate: 0.0010\n",
            "Epoch 12/50\n",
            "\u001b[1m646/646\u001b[0m \u001b[32m━━━━━━━━━━━━━━━━━━━━\u001b[0m\u001b[37m\u001b[0m \u001b[1m2s\u001b[0m 4ms/step - accuracy: 0.7621 - loss: 0.4449 - val_accuracy: 0.7696 - val_loss: 0.4390 - learning_rate: 0.0010\n",
            "Epoch 13/50\n",
            "\u001b[1m646/646\u001b[0m \u001b[32m━━━━━━━━━━━━━━━━━━━━\u001b[0m\u001b[37m\u001b[0m \u001b[1m4s\u001b[0m 5ms/step - accuracy: 0.7672 - loss: 0.4402 - val_accuracy: 0.7707 - val_loss: 0.4393 - learning_rate: 0.0010\n",
            "Epoch 14/50\n",
            "\u001b[1m646/646\u001b[0m \u001b[32m━━━━━━━━━━━━━━━━━━━━\u001b[0m\u001b[37m\u001b[0m \u001b[1m4s\u001b[0m 4ms/step - accuracy: 0.7647 - loss: 0.4413 - val_accuracy: 0.7695 - val_loss: 0.4376 - learning_rate: 0.0010\n",
            "Epoch 15/50\n",
            "\u001b[1m646/646\u001b[0m \u001b[32m━━━━━━━━━━━━━━━━━━━━\u001b[0m\u001b[37m\u001b[0m \u001b[1m3s\u001b[0m 4ms/step - accuracy: 0.7678 - loss: 0.4373 - val_accuracy: 0.7733 - val_loss: 0.4354 - learning_rate: 0.0010\n",
            "Epoch 16/50\n",
            "\u001b[1m646/646\u001b[0m \u001b[32m━━━━━━━━━━━━━━━━━━━━\u001b[0m\u001b[37m\u001b[0m \u001b[1m2s\u001b[0m 4ms/step - accuracy: 0.7707 - loss: 0.4330 - val_accuracy: 0.7716 - val_loss: 0.4362 - learning_rate: 0.0010\n",
            "Epoch 17/50\n",
            "\u001b[1m646/646\u001b[0m \u001b[32m━━━━━━━━━━━━━━━━━━━━\u001b[0m\u001b[37m\u001b[0m \u001b[1m3s\u001b[0m 5ms/step - accuracy: 0.7708 - loss: 0.4313 - val_accuracy: 0.7720 - val_loss: 0.4336 - learning_rate: 0.0010\n",
            "Epoch 18/50\n",
            "\u001b[1m646/646\u001b[0m \u001b[32m━━━━━━━━━━━━━━━━━━━━\u001b[0m\u001b[37m\u001b[0m \u001b[1m3s\u001b[0m 4ms/step - accuracy: 0.7745 - loss: 0.4298 - val_accuracy: 0.7711 - val_loss: 0.4380 - learning_rate: 0.0010\n",
            "Epoch 19/50\n",
            "\u001b[1m646/646\u001b[0m \u001b[32m━━━━━━━━━━━━━━━━━━━━\u001b[0m\u001b[37m\u001b[0m \u001b[1m2s\u001b[0m 4ms/step - accuracy: 0.7765 - loss: 0.4278 - val_accuracy: 0.7760 - val_loss: 0.4307 - learning_rate: 0.0010\n",
            "Epoch 20/50\n",
            "\u001b[1m646/646\u001b[0m \u001b[32m━━━━━━━━━━━━━━━━━━━━\u001b[0m\u001b[37m\u001b[0m \u001b[1m3s\u001b[0m 4ms/step - accuracy: 0.7756 - loss: 0.4247 - val_accuracy: 0.7763 - val_loss: 0.4312 - learning_rate: 0.0010\n",
            "Epoch 21/50\n",
            "\u001b[1m646/646\u001b[0m \u001b[32m━━━━━━━━━━━━━━━━━━━━\u001b[0m\u001b[37m\u001b[0m \u001b[1m3s\u001b[0m 4ms/step - accuracy: 0.7747 - loss: 0.4311 - val_accuracy: 0.7770 - val_loss: 0.4295 - learning_rate: 0.0010\n",
            "Epoch 22/50\n",
            "\u001b[1m646/646\u001b[0m \u001b[32m━━━━━━━━━━━━━━━━━━━━\u001b[0m\u001b[37m\u001b[0m \u001b[1m3s\u001b[0m 5ms/step - accuracy: 0.7789 - loss: 0.4233 - val_accuracy: 0.7786 - val_loss: 0.4269 - learning_rate: 0.0010\n",
            "Epoch 23/50\n",
            "\u001b[1m646/646\u001b[0m \u001b[32m━━━━━━━━━━━━━━━━━━━━\u001b[0m\u001b[37m\u001b[0m \u001b[1m3s\u001b[0m 4ms/step - accuracy: 0.7817 - loss: 0.4195 - val_accuracy: 0.7736 - val_loss: 0.4272 - learning_rate: 0.0010\n",
            "Epoch 24/50\n",
            "\u001b[1m646/646\u001b[0m \u001b[32m━━━━━━━━━━━━━━━━━━━━\u001b[0m\u001b[37m\u001b[0m \u001b[1m5s\u001b[0m 4ms/step - accuracy: 0.7813 - loss: 0.4217 - val_accuracy: 0.7756 - val_loss: 0.4268 - learning_rate: 0.0010\n",
            "Epoch 25/50\n",
            "\u001b[1m646/646\u001b[0m \u001b[32m━━━━━━━━━━━━━━━━━━━━\u001b[0m\u001b[37m\u001b[0m \u001b[1m6s\u001b[0m 6ms/step - accuracy: 0.7803 - loss: 0.4197 - val_accuracy: 0.7763 - val_loss: 0.4284 - learning_rate: 0.0010\n",
            "Epoch 26/50\n",
            "\u001b[1m646/646\u001b[0m \u001b[32m━━━━━━━━━━━━━━━━━━━━\u001b[0m\u001b[37m\u001b[0m \u001b[1m2s\u001b[0m 4ms/step - accuracy: 0.7825 - loss: 0.4188 - val_accuracy: 0.7817 - val_loss: 0.4236 - learning_rate: 0.0010\n",
            "Epoch 27/50\n",
            "\u001b[1m646/646\u001b[0m \u001b[32m━━━━━━━━━━━━━━━━━━━━\u001b[0m\u001b[37m\u001b[0m \u001b[1m3s\u001b[0m 4ms/step - accuracy: 0.7844 - loss: 0.4144 - val_accuracy: 0.7839 - val_loss: 0.4219 - learning_rate: 0.0010\n",
            "Epoch 28/50\n",
            "\u001b[1m646/646\u001b[0m \u001b[32m━━━━━━━━━━━━━━━━━━━━\u001b[0m\u001b[37m\u001b[0m \u001b[1m3s\u001b[0m 4ms/step - accuracy: 0.7861 - loss: 0.4138 - val_accuracy: 0.7817 - val_loss: 0.4226 - learning_rate: 0.0010\n",
            "Epoch 29/50\n",
            "\u001b[1m646/646\u001b[0m \u001b[32m━━━━━━━━━━━━━━━━━━━━\u001b[0m\u001b[37m\u001b[0m \u001b[1m3s\u001b[0m 4ms/step - accuracy: 0.7889 - loss: 0.4097 - val_accuracy: 0.7815 - val_loss: 0.4189 - learning_rate: 0.0010\n",
            "Epoch 30/50\n",
            "\u001b[1m646/646\u001b[0m \u001b[32m━━━━━━━━━━━━━━━━━━━━\u001b[0m\u001b[37m\u001b[0m \u001b[1m3s\u001b[0m 5ms/step - accuracy: 0.7888 - loss: 0.4079 - val_accuracy: 0.7880 - val_loss: 0.4159 - learning_rate: 0.0010\n",
            "Epoch 31/50\n",
            "\u001b[1m646/646\u001b[0m \u001b[32m━━━━━━━━━━━━━━━━━━━━\u001b[0m\u001b[37m\u001b[0m \u001b[1m2s\u001b[0m 4ms/step - accuracy: 0.7886 - loss: 0.4112 - val_accuracy: 0.7864 - val_loss: 0.4154 - learning_rate: 0.0010\n",
            "Epoch 32/50\n",
            "\u001b[1m646/646\u001b[0m \u001b[32m━━━━━━━━━━━━━━━━━━━━\u001b[0m\u001b[37m\u001b[0m \u001b[1m3s\u001b[0m 4ms/step - accuracy: 0.7924 - loss: 0.4087 - val_accuracy: 0.7901 - val_loss: 0.4141 - learning_rate: 0.0010\n",
            "Epoch 33/50\n",
            "\u001b[1m646/646\u001b[0m \u001b[32m━━━━━━━━━━━━━━━━━━━━\u001b[0m\u001b[37m\u001b[0m \u001b[1m3s\u001b[0m 4ms/step - accuracy: 0.7915 - loss: 0.4056 - val_accuracy: 0.7854 - val_loss: 0.4145 - learning_rate: 0.0010\n",
            "Epoch 34/50\n",
            "\u001b[1m646/646\u001b[0m \u001b[32m━━━━━━━━━━━━━━━━━━━━\u001b[0m\u001b[37m\u001b[0m \u001b[1m6s\u001b[0m 5ms/step - accuracy: 0.7956 - loss: 0.4029 - val_accuracy: 0.7909 - val_loss: 0.4126 - learning_rate: 0.0010\n",
            "Epoch 35/50\n",
            "\u001b[1m646/646\u001b[0m \u001b[32m━━━━━━━━━━━━━━━━━━━━\u001b[0m\u001b[37m\u001b[0m \u001b[1m5s\u001b[0m 4ms/step - accuracy: 0.7988 - loss: 0.4009 - val_accuracy: 0.7929 - val_loss: 0.4120 - learning_rate: 0.0010\n",
            "Epoch 36/50\n",
            "\u001b[1m646/646\u001b[0m \u001b[32m━━━━━━━━━━━━━━━━━━━━\u001b[0m\u001b[37m\u001b[0m \u001b[1m6s\u001b[0m 5ms/step - accuracy: 0.7968 - loss: 0.3980 - val_accuracy: 0.7935 - val_loss: 0.4076 - learning_rate: 0.0010\n",
            "Epoch 37/50\n",
            "\u001b[1m646/646\u001b[0m \u001b[32m━━━━━━━━━━━━━━━━━━━━\u001b[0m\u001b[37m\u001b[0m \u001b[1m3s\u001b[0m 4ms/step - accuracy: 0.8016 - loss: 0.3939 - val_accuracy: 0.7926 - val_loss: 0.4103 - learning_rate: 0.0010\n",
            "Epoch 38/50\n",
            "\u001b[1m646/646\u001b[0m \u001b[32m━━━━━━━━━━━━━━━━━━━━\u001b[0m\u001b[37m\u001b[0m \u001b[1m5s\u001b[0m 4ms/step - accuracy: 0.7976 - loss: 0.3958 - val_accuracy: 0.7964 - val_loss: 0.4065 - learning_rate: 0.0010\n",
            "Epoch 39/50\n",
            "\u001b[1m646/646\u001b[0m \u001b[32m━━━━━━━━━━━━━━━━━━━━\u001b[0m\u001b[37m\u001b[0m \u001b[1m2s\u001b[0m 4ms/step - accuracy: 0.8015 - loss: 0.3931 - val_accuracy: 0.7982 - val_loss: 0.4060 - learning_rate: 0.0010\n",
            "Epoch 40/50\n",
            "\u001b[1m646/646\u001b[0m \u001b[32m━━━━━━━━━━━━━━━━━━━━\u001b[0m\u001b[37m\u001b[0m \u001b[1m3s\u001b[0m 4ms/step - accuracy: 0.7986 - loss: 0.3967 - val_accuracy: 0.8008 - val_loss: 0.4027 - learning_rate: 0.0010\n",
            "Epoch 41/50\n",
            "\u001b[1m646/646\u001b[0m \u001b[32m━━━━━━━━━━━━━━━━━━━━\u001b[0m\u001b[37m\u001b[0m \u001b[1m3s\u001b[0m 5ms/step - accuracy: 0.8016 - loss: 0.3916 - val_accuracy: 0.7985 - val_loss: 0.4042 - learning_rate: 0.0010\n",
            "Epoch 42/50\n",
            "\u001b[1m646/646\u001b[0m \u001b[32m━━━━━━━━━━━━━━━━━━━━\u001b[0m\u001b[37m\u001b[0m \u001b[1m5s\u001b[0m 4ms/step - accuracy: 0.8037 - loss: 0.3883 - val_accuracy: 0.7995 - val_loss: 0.4017 - learning_rate: 0.0010\n",
            "Epoch 43/50\n",
            "\u001b[1m646/646\u001b[0m \u001b[32m━━━━━━━━━━━━━━━━━━━━\u001b[0m\u001b[37m\u001b[0m \u001b[1m3s\u001b[0m 4ms/step - accuracy: 0.8051 - loss: 0.3876 - val_accuracy: 0.7995 - val_loss: 0.4018 - learning_rate: 0.0010\n",
            "Epoch 44/50\n",
            "\u001b[1m646/646\u001b[0m \u001b[32m━━━━━━━━━━━━━━━━━━━━\u001b[0m\u001b[37m\u001b[0m \u001b[1m4s\u001b[0m 6ms/step - accuracy: 0.8061 - loss: 0.3875 - val_accuracy: 0.8039 - val_loss: 0.3988 - learning_rate: 0.0010\n",
            "Epoch 45/50\n",
            "\u001b[1m646/646\u001b[0m \u001b[32m━━━━━━━━━━━━━━━━━━━━\u001b[0m\u001b[37m\u001b[0m \u001b[1m4s\u001b[0m 4ms/step - accuracy: 0.8067 - loss: 0.3860 - val_accuracy: 0.8042 - val_loss: 0.3961 - learning_rate: 0.0010\n",
            "Epoch 46/50\n",
            "\u001b[1m646/646\u001b[0m \u001b[32m━━━━━━━━━━━━━━━━━━━━\u001b[0m\u001b[37m\u001b[0m \u001b[1m2s\u001b[0m 4ms/step - accuracy: 0.8056 - loss: 0.3839 - val_accuracy: 0.8036 - val_loss: 0.3975 - learning_rate: 0.0010\n",
            "Epoch 47/50\n",
            "\u001b[1m646/646\u001b[0m \u001b[32m━━━━━━━━━━━━━━━━━━━━\u001b[0m\u001b[37m\u001b[0m \u001b[1m3s\u001b[0m 4ms/step - accuracy: 0.8116 - loss: 0.3799 - val_accuracy: 0.8030 - val_loss: 0.3983 - learning_rate: 0.0010\n",
            "Epoch 48/50\n",
            "\u001b[1m646/646\u001b[0m \u001b[32m━━━━━━━━━━━━━━━━━━━━\u001b[0m\u001b[37m\u001b[0m \u001b[1m5s\u001b[0m 4ms/step - accuracy: 0.8125 - loss: 0.3788 - val_accuracy: 0.8075 - val_loss: 0.3941 - learning_rate: 0.0010\n",
            "Epoch 49/50\n",
            "\u001b[1m646/646\u001b[0m \u001b[32m━━━━━━━━━━━━━━━━━━━━\u001b[0m\u001b[37m\u001b[0m \u001b[1m5s\u001b[0m 4ms/step - accuracy: 0.8112 - loss: 0.3769 - val_accuracy: 0.8068 - val_loss: 0.3925 - learning_rate: 0.0010\n",
            "Epoch 50/50\n",
            "\u001b[1m646/646\u001b[0m \u001b[32m━━━━━━━━━━━━━━━━━━━━\u001b[0m\u001b[37m\u001b[0m \u001b[1m3s\u001b[0m 4ms/step - accuracy: 0.8096 - loss: 0.3789 - val_accuracy: 0.8062 - val_loss: 0.3935 - learning_rate: 0.0010\n"
          ]
        }
      ]
    },
    {
      "cell_type": "code",
      "source": [
        "# Evaluate the test set\n",
        "model.evaluate(X_test, y_test)"
      ],
      "metadata": {
        "colab": {
          "base_uri": "https://localhost:8080/"
        },
        "id": "_kPXZlBNBkIN",
        "outputId": "3a0c1ef9-33c4-49cf-8d26-81b0e2c0b829"
      },
      "execution_count": null,
      "outputs": [
        {
          "output_type": "stream",
          "name": "stdout",
          "text": [
            "\u001b[1m383/383\u001b[0m \u001b[32m━━━━━━━━━━━━━━━━━━━━\u001b[0m\u001b[37m\u001b[0m \u001b[1m2s\u001b[0m 4ms/step - accuracy: 0.8033 - loss: 0.3904\n"
          ]
        },
        {
          "output_type": "execute_result",
          "data": {
            "text/plain": [
              "[0.38804346323013306, 0.8072869777679443]"
            ]
          },
          "metadata": {},
          "execution_count": 41
        }
      ]
    },
    {
      "cell_type": "code",
      "source": [
        "# บันทึกโมเดลเป็นไฟล์ .h5\n",
        "model.save(\"dnn_model.keras\")"
      ],
      "metadata": {
        "id": "wJDTFrNUWTr8"
      },
      "execution_count": null,
      "outputs": []
    }
  ]
}